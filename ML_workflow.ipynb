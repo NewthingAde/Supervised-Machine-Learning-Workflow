{
 "cells": [
  {
   "cell_type": "code",
   "execution_count": 1,
   "id": "3ae90a61",
   "metadata": {},
   "outputs": [],
   "source": [
    "import pandas as pd\n",
    "import numpy as np\n",
    "import matplotlib.pyplot as plt\n",
    "import seaborn as sns"
   ]
  },
  {
   "cell_type": "markdown",
   "id": "7a792dc7",
   "metadata": {},
   "source": [
    "# Supervised ML workflow\n",
    "\n"
   ]
  },
  {
   "cell_type": "code",
   "execution_count": 2,
   "id": "ab63aeff",
   "metadata": {},
   "outputs": [],
   "source": [
    "df= pd.read_csv(\"salaries_clean.csv\")"
   ]
  },
  {
   "cell_type": "code",
   "execution_count": 3,
   "id": "95da2f16",
   "metadata": {},
   "outputs": [
    {
     "data": {
      "text/html": [
       "<div>\n",
       "<style scoped>\n",
       "    .dataframe tbody tr th:only-of-type {\n",
       "        vertical-align: middle;\n",
       "    }\n",
       "\n",
       "    .dataframe tbody tr th {\n",
       "        vertical-align: top;\n",
       "    }\n",
       "\n",
       "    .dataframe thead th {\n",
       "        text-align: right;\n",
       "    }\n",
       "</style>\n",
       "<table border=\"1\" class=\"dataframe\">\n",
       "  <thead>\n",
       "    <tr style=\"text-align: right;\">\n",
       "      <th></th>\n",
       "      <th>YearsExperience</th>\n",
       "      <th>Salary</th>\n",
       "    </tr>\n",
       "  </thead>\n",
       "  <tbody>\n",
       "    <tr>\n",
       "      <th>0</th>\n",
       "      <td>1.1</td>\n",
       "      <td>338349.8</td>\n",
       "    </tr>\n",
       "    <tr>\n",
       "      <th>1</th>\n",
       "      <td>1.3</td>\n",
       "      <td>397363.0</td>\n",
       "    </tr>\n",
       "    <tr>\n",
       "      <th>2</th>\n",
       "      <td>1.5</td>\n",
       "      <td>324486.6</td>\n",
       "    </tr>\n",
       "    <tr>\n",
       "      <th>3</th>\n",
       "      <td>2.0</td>\n",
       "      <td>374315.0</td>\n",
       "    </tr>\n",
       "    <tr>\n",
       "      <th>4</th>\n",
       "      <td>2.2</td>\n",
       "      <td>343062.6</td>\n",
       "    </tr>\n",
       "  </tbody>\n",
       "</table>\n",
       "</div>"
      ],
      "text/plain": [
       "   YearsExperience    Salary\n",
       "0              1.1  338349.8\n",
       "1              1.3  397363.0\n",
       "2              1.5  324486.6\n",
       "3              2.0  374315.0\n",
       "4              2.2  343062.6"
      ]
     },
     "execution_count": 3,
     "metadata": {},
     "output_type": "execute_result"
    }
   ],
   "source": [
    "df.head()"
   ]
  },
  {
   "cell_type": "code",
   "execution_count": 4,
   "id": "510d7607",
   "metadata": {},
   "outputs": [
    {
     "name": "stdout",
     "output_type": "stream",
     "text": [
      "<class 'pandas.core.frame.DataFrame'>\n",
      "RangeIndex: 30 entries, 0 to 29\n",
      "Data columns (total 2 columns):\n",
      " #   Column           Non-Null Count  Dtype  \n",
      "---  ------           --------------  -----  \n",
      " 0   YearsExperience  30 non-null     float64\n",
      " 1   Salary           30 non-null     float64\n",
      "dtypes: float64(2)\n",
      "memory usage: 608.0 bytes\n"
     ]
    }
   ],
   "source": [
    "df.info()"
   ]
  },
  {
   "cell_type": "markdown",
   "id": "692cfef7",
   "metadata": {},
   "source": [
    "## X AND Y"
   ]
  },
  {
   "cell_type": "code",
   "execution_count": 5,
   "id": "4f17a446",
   "metadata": {},
   "outputs": [],
   "source": [
    "X= df.drop(columns=\"Salary\")\n",
    "y = df[\"Salary\"]"
   ]
  },
  {
   "cell_type": "markdown",
   "id": "8f62589b",
   "metadata": {},
   "source": [
    "# Train test splict"
   ]
  },
  {
   "cell_type": "code",
   "execution_count": 7,
   "id": "0641a212",
   "metadata": {},
   "outputs": [],
   "source": [
    "from sklearn.model_selection import train_test_split\n",
    "\n",
    "X_train, X_test, y_train, y_test = train_test_split(X,y, random_state=42, test_size=1/3)"
   ]
  },
  {
   "cell_type": "markdown",
   "id": "baed8f01",
   "metadata": {},
   "source": [
    "# `train model`"
   ]
  },
  {
   "cell_type": "code",
   "execution_count": 8,
   "id": "8d105e16",
   "metadata": {},
   "outputs": [],
   "source": [
    "from sklearn.linear_model import LinearRegression\n",
    "\n",
    "reg_model = LinearRegression()"
   ]
  },
  {
   "cell_type": "code",
   "execution_count": 9,
   "id": "2b0e795e",
   "metadata": {},
   "outputs": [
    {
     "data": {
      "text/plain": [
       "LinearRegression()"
      ]
     },
     "execution_count": 9,
     "metadata": {},
     "output_type": "execute_result"
    }
   ],
   "source": [
    "reg_model.fit(X_train, y_train)"
   ]
  },
  {
   "cell_type": "markdown",
   "id": "8c5e3683",
   "metadata": {},
   "source": [
    "### Undrstanding the model\n",
    "        - mainly for learning process(not part of the workflow)"
   ]
  },
  {
   "cell_type": "code",
   "execution_count": 10,
   "id": "d766f24d",
   "metadata": {},
   "outputs": [
    {
     "data": {
      "text/plain": [
       "217789.2842615011"
      ]
     },
     "execution_count": 10,
     "metadata": {},
     "output_type": "execute_result"
    }
   ],
   "source": [
    "reg_model.intercept_"
   ]
  },
  {
   "cell_type": "code",
   "execution_count": 11,
   "id": "fa092e60",
   "metadata": {},
   "outputs": [
    {
     "data": {
      "text/plain": [
       "array([81063.93341404])"
      ]
     },
     "execution_count": 11,
     "metadata": {},
     "output_type": "execute_result"
    }
   ],
   "source": [
    "reg_model.coef_"
   ]
  },
  {
   "cell_type": "code",
   "execution_count": 14,
   "id": "f73d122b",
   "metadata": {},
   "outputs": [
    {
     "data": {
      "text/plain": [
       "array([ 396129.9377724 ,  631215.34467312,  452874.69116223,\n",
       "        550151.41125908,  542045.01791768,  858194.35823245,\n",
       "        323172.39769976,  339385.18438257,  947364.68498789,\n",
       "        379917.15108959,  793343.21150121,  987896.65169492,\n",
       "        696066.49140436, 1068960.58510896,  769024.031477  ,\n",
       "        477193.87118644,  533938.62457627,  582576.9846247 ,\n",
       "        704172.88474576,  460981.08450363])"
      ]
     },
     "execution_count": 14,
     "metadata": {},
     "output_type": "execute_result"
    }
   ],
   "source": [
    "reg_model.predict(X_train)"
   ]
  },
  {
   "cell_type": "code",
   "execution_count": 15,
   "id": "debe1d8f",
   "metadata": {},
   "outputs": [
    {
     "data": {
      "image/png": "[encoded data removed]",
      "text/plain": [
       "<Figure size 864x576 with 1 Axes>"
      ]
     },
     "metadata": {},
     "output_type": "display_data"
    }
   ],
   "source": [
    "# Visualising the Training set results\n",
    "plt.figure(figsize = (12,8))\n",
    "\n",
    "# Scatter plot with original training data\n",
    "plt.scatter(X_train, y_train, color='red')\n",
    "\n",
    "# Linear model\n",
    "plt.plot(X_train, reg_model.predict(X_train), color='blue')\n",
    "\n",
    "plt.title('Salary vs Working Experience\\n\\nLinear model vs. actual data (Training Set)', fontsize = 25)\n",
    "plt.xlabel('Years of Experience', fontsize = 15)\n",
    "plt.ylabel('Salary', fontsize = 15)\n",
    "plt.show()"
   ]
  },
  {
   "cell_type": "markdown",
   "id": "10b1b62f",
   "metadata": {},
   "source": [
    "# Evaluating model performance on training data\n",
    "\n",
    "Metrics in sklearn:\n",
    "- https://scikit-learn.org/stable/modules/classes.html#module-sklearn.metrics\n",
    "___\n",
    "Metrics we will look at:\n",
    "- r2 score\n",
    "- mean squared error\n",
    "\n",
    "### r2 score\n",
    "\n",
    "- models ability to explain the variance in the target variable"
   ]
  },
  {
   "cell_type": "code",
   "execution_count": 16,
   "id": "e107925e",
   "metadata": {},
   "outputs": [],
   "source": [
    "from sklearn.metrics import r2_score"
   ]
  },
  {
   "cell_type": "code",
   "execution_count": 17,
   "id": "b5270f6b",
   "metadata": {},
   "outputs": [
    {
     "data": {
      "text/plain": [
       "0.9549236946181227"
      ]
     },
     "execution_count": 17,
     "metadata": {},
     "output_type": "execute_result"
    }
   ],
   "source": [
    "# Y-true, y_pred\n",
    "\n",
    "r2_score(y_train, reg_model.predict(X_train))"
   ]
  },
  {
   "cell_type": "markdown",
   "id": "7ece289f",
   "metadata": {},
   "source": [
    "## mean squared error\n",
    "\n",
    "![mean squared error](https://www.gstatic.com/education/formulas2/355397047/en/mean_squared_error.svg)\n",
    "\n",
    "- If you are not familiar with reading math formulas, don't worry, it is an easy-to-understand formula\n",
    "- It is just the average squared difference between the estimated values and the actual value\n",
    "- Interpretation of the value needs context, not as clear as the r2 score as it is dependent on the euclidian distance between ground truth and predicted value\n",
    "- Just think of it as a way to measure performance where a lower value for mse = better predictions"
   ]
  },
  {
   "cell_type": "code",
   "execution_count": 20,
   "id": "02b190ee",
   "metadata": {},
   "outputs": [],
   "source": [
    "def mse(y, y_pred):\n",
    "    lst_square_error = [(yi - yi_r)** 2 for yi, yi_r in zip(y, y_pred)]\n",
    "    return 1/len(y) * np.array(lst_square_error).sum()"
   ]
  },
  {
   "cell_type": "code",
   "execution_count": 22,
   "id": "dce6a2a4",
   "metadata": {},
   "outputs": [
    {
     "data": {
      "text/plain": [
       "2203502193.6560054"
      ]
     },
     "execution_count": 22,
     "metadata": {},
     "output_type": "execute_result"
    }
   ],
   "source": [
    "y_pred = reg_model.predict(X_train)\n",
    "mse(y_train,y_pred)"
   ]
  },
  {
   "cell_type": "code",
   "execution_count": 23,
   "id": "3961d161",
   "metadata": {},
   "outputs": [],
   "source": [
    "from sklearn.metrics import mean_squared_error"
   ]
  },
  {
   "cell_type": "code",
   "execution_count": 24,
   "id": "325a14cb",
   "metadata": {},
   "outputs": [
    {
     "data": {
      "text/plain": [
       "2203502193.656005"
      ]
     },
     "execution_count": 24,
     "metadata": {},
     "output_type": "execute_result"
    }
   ],
   "source": [
    "mean_squared_error(y_train, y_pred)"
   ]
  },
  {
   "cell_type": "markdown",
   "id": "21f7ee43",
   "metadata": {},
   "source": [
    "## Evaluating model on test data\n",
    "\n",
    "Evaluating these parameters for data the model has already seen is of course not very useful.\n",
    "\n",
    "We want to know how well how model performs on unseen data."
   ]
  },
  {
   "cell_type": "code",
   "execution_count": 25,
   "id": "2e4c8a69",
   "metadata": {},
   "outputs": [
    {
     "data": {
      "text/plain": [
       "array([ 996003.04503632,  615002.55799031,  882513.53825666,\n",
       "        647428.13135593,  477193.87118644,  517725.83789346,\n",
       "       1052747.79842615,  923045.50496368,  542045.01791768,\n",
       "        306959.61101695])"
      ]
     },
     "execution_count": 25,
     "metadata": {},
     "output_type": "execute_result"
    }
   ],
   "source": [
    "reg_model.predict(X_test)"
   ]
  },
  {
   "cell_type": "code",
   "execution_count": 26,
   "id": "9268e566",
   "metadata": {},
   "outputs": [
    {
     "data": {
      "text/plain": [
       "0.9553063138044949"
      ]
     },
     "execution_count": 26,
     "metadata": {},
     "output_type": "execute_result"
    }
   ],
   "source": [
    "r2_score(y_test, reg_model.predict(X_test))"
   ]
  },
  {
   "cell_type": "code",
   "execution_count": 27,
   "id": "83814802",
   "metadata": {},
   "outputs": [
    {
     "data": {
      "text/plain": [
       "2610928441.6924953"
      ]
     },
     "execution_count": 27,
     "metadata": {},
     "output_type": "execute_result"
    }
   ],
   "source": [
    "mean_squared_error(y_test, reg_model.predict(X_test))"
   ]
  },
  {
   "cell_type": "code",
   "execution_count": null,
   "id": "c65b4565",
   "metadata": {},
   "outputs": [],
   "source": []
  }
 ],
 "metadata": {
  "kernelspec": {
   "display_name": "Python 3 (ipykernel)",
   "language": "python",
   "name": "python3"
  },
  "language_info": {
   "codemirror_mode": {
    "name": "ipython",
    "version": 3
   },
   "file_extension": ".py",
   "mimetype": "text/x-python",
   "name": "python",
   "nbconvert_exporter": "python",
   "pygments_lexer": "ipython3",
   "version": "3.9.7"
  }
 },
 "nbformat": 4,
 "nbformat_minor": 5
}
